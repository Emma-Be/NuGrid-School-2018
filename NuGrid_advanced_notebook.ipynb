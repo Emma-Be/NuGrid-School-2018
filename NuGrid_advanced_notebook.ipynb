{
 "cells": [
  {
   "cell_type": "markdown",
   "metadata": {},
   "source": [
    "![NuGrid Logo](https://indico.cern.ch/event/719752/logo-2740249237.png)"
   ]
  },
  {
   "cell_type": "markdown",
   "metadata": {},
   "source": [
    "# Advanced Topics in Python\n",
    "\n",
    "In the first set of notes we have covered the basics of the Python programming language. There are many other uses for Python however, and many more tools which you can use to perform calculations, sort data, draw graphs and other tasks.\n",
    "\n",
    "There are too many tools to cover in this introduction, so we have put together a list of some of the most important topics which we will cover in this pack.\n",
    "\n",
    "These are:\n",
    "\n",
    "* Functions\n",
    "    * What are they?\n",
    "    * How do we define them?\n",
    "    * Why are they useful?\n",
    "    * Types of argument\n",
    "    \n",
    "    \n",
    "* Using Python packages\n",
    "    * What is a package?\n",
    "    * What are the ones most commonly used in astrophysics?\n",
    "    * How to load them and use functions from them \n",
    "    \n",
    "\n",
    "* Reading and writing to a file\n",
    "    * Reading a data file\n",
    "    * Producing files with your results saved to it\n",
    "    \n",
    "    \n",
    "* Plotting data\n",
    "    * What packages can we use to plot data?\n",
    "    * How do we use real data to produce these plots?\n",
    "\n",
    "\n",
    "We will also cover three more advanced topics. While not strictly necessary for the work we will be doing, these topics are very useful for further study in Python, and will make data handling much easier if you learn how to apply them correctly.\n",
    "\n",
    "These three topics are:\n",
    "\n",
    "* Exception handling\n",
    "* Dictionaries\n",
    "* Using the builtin **open** function\n",
    "\n",
    "After working through these topics, you will be given two tasks to be completed before the Summer school.\n",
    "   "
   ]
  },
  {
   "cell_type": "markdown",
   "metadata": {},
   "source": [
    "# Functions\n",
    "\n",
    "### What are they?\n",
    "\n",
    "A function is a piece of code which performs a task, and can be used over and over again. An example is shown below:"
   ]
  },
  {
   "cell_type": "code",
   "execution_count": 1,
   "metadata": {},
   "outputs": [],
   "source": [
    "def squares(numbers):\n",
    "    \"A function to print the square of a number passed to it\"\n",
    "    for i in numbers:\n",
    "        print(i**2)\n"
   ]
  },
  {
   "cell_type": "markdown",
   "metadata": {},
   "source": [
    "def **defines** a function, called squares\n",
    "\n",
    "squares takes an **argument**, called numbers. The argument is the bit that you add and which the function works on. This is a list of numbers for squares, but can be many different types of input.\n",
    "\n",
    "The doc string (short for documentation string) is next, and gives some information about the function. You can read this information by typing the name of your function, followed by a ?\n",
    "\n",
    "For example:"
   ]
  },
  {
   "cell_type": "code",
   "execution_count": 2,
   "metadata": {},
   "outputs": [],
   "source": [
    "squares?"
   ]
  },
  {
   "cell_type": "markdown",
   "metadata": {},
   "source": [
    "when executed, will give you information about the squares function. This should appear at the bottom of your screen.\n",
    "\n",
    "Next in this example, a simple **for** loop is used to cycle through the values in numbers, and print those values to the power of two.\n",
    "\n",
    "Let's see this in action:"
   ]
  },
  {
   "cell_type": "code",
   "execution_count": 3,
   "metadata": {},
   "outputs": [
    {
     "name": "stdout",
     "output_type": "stream",
     "text": [
      "1\n",
      "4\n",
      "9\n",
      "16\n",
      "25\n"
     ]
    }
   ],
   "source": [
    "squares([1,2,3,4,5])"
   ]
  },
  {
   "cell_type": "markdown",
   "metadata": {},
   "source": [
    "Here we have **called** the function squares, and **passed** it a list as an argument [1,2,3,4,5]\n",
    "\n",
    "Note, for this example numbers must be a list or array, but depending on how you define your function this could be a string an integer, a float or a boolean, or any object type which python suports.\n",
    "\n",
    "Functions are very useful, because they allow us to reuse code that we have written in different situations. For example, if you were to have many lists of numbers:"
   ]
  },
  {
   "cell_type": "code",
   "execution_count": 4,
   "metadata": {},
   "outputs": [],
   "source": [
    "numbers_1 = [11,59,70,33,92]\n",
    "numbers_2 = [22,21,44,16,10]\n",
    "numbers_3 = [43,12,19,16,32]"
   ]
  },
  {
   "cell_type": "markdown",
   "metadata": {},
   "source": [
    "you may check the squares of each of these simply by **passing** the lists numbers_1, numbers_2 and numbers_3 to the squares function:"
   ]
  },
  {
   "cell_type": "code",
   "execution_count": 5,
   "metadata": {},
   "outputs": [
    {
     "name": "stdout",
     "output_type": "stream",
     "text": [
      "numbers_1 squared:\n",
      "121\n",
      "3481\n",
      "4900\n",
      "1089\n",
      "8464\n",
      "numbers_2 squared:\n",
      "484\n",
      "441\n",
      "1936\n",
      "256\n",
      "100\n",
      "numbers_3 squared:\n",
      "1849\n",
      "144\n",
      "361\n",
      "256\n",
      "1024\n"
     ]
    }
   ],
   "source": [
    "print('numbers_1 squared:')\n",
    "squares(numbers_1)\n",
    "print('numbers_2 squared:')\n",
    "squares(numbers_2)\n",
    "print('numbers_3 squared:')\n",
    "squares(numbers_3)"
   ]
  },
  {
   "cell_type": "markdown",
   "metadata": {},
   "source": [
    "See below another example of a function"
   ]
  },
  {
   "cell_type": "code",
   "execution_count": 6,
   "metadata": {},
   "outputs": [],
   "source": [
    "def is_string(func_input):\n",
    "    \"A function to determine whether the argument given is a string or a different data type\"\n",
    "    if type(func_input) == str:\n",
    "        print('This is a string')\n",
    "    else:\n",
    "        print('This is not a string')"
   ]
  },
  {
   "cell_type": "code",
   "execution_count": 7,
   "metadata": {},
   "outputs": [
    {
     "name": "stdout",
     "output_type": "stream",
     "text": [
      "This is a string\n"
     ]
    }
   ],
   "source": [
    "is_string('Cat')"
   ]
  },
  {
   "cell_type": "markdown",
   "metadata": {},
   "source": [
    "Here we **define** a function, is_string, who's **argument** is func_input. We check what **type** of object func_input is, and **if** it is a string, we print a message. **else** we print a different message.\n",
    "\n",
    "You may like to try writing your own function to print the type of any argument passed to this function. (For a list of object types, see the first set of lecture notes)."
   ]
  },
  {
   "cell_type": "markdown",
   "metadata": {},
   "source": [
    "### Task:\n",
    "\n",
    "**Define** a function called prime.\n",
    "\n",
    "This should take the **argument** number.\n",
    "\n",
    "Your function should take number (between 1 and 50) and find if it is a prime.\n",
    "\n",
    "**If** it is a prime, it should print your number\n",
    "\n",
    "**else** it should write 'try a different number'"
   ]
  },
  {
   "cell_type": "markdown",
   "metadata": {},
   "source": [
    "### Why are they useful?\n",
    "\n",
    "These examples show you some of the ways that fuctions can be used in python, but any piece of code which you need to reuse can be written as a function. This can make writing code much faster and easier, and make it more readable for people looking at your work.\n",
    "\n",
    "\n",
    "\n",
    "# Types of argument\n",
    "\n",
    "There are 4 types of argument which can be used in a function. We will only describe three here, but if you are interested there are links other materials at the end of these notes which you may use to learn more.\n",
    "\n",
    "\n",
    "### Required arguments\n",
    "\n",
    "These are arguments that you **must** provide when you use the function. All of the arguments above are required arguments, and the functions we have defined will not work without these. You must give required arguments in the same order as they are listed in the function.\n",
    "\n",
    "### Keyword arguments\n",
    "\n",
    "When you use a **keyword argument**, you specify which argument you are passing to the function with a keyword. This alows you to change the order that you pass arguments to the function. For example:\n"
   ]
  },
  {
   "cell_type": "code",
   "execution_count": 8,
   "metadata": {},
   "outputs": [
    {
     "name": "stdout",
     "output_type": "stream",
     "text": [
      "This is a string\n"
     ]
    }
   ],
   "source": [
    "is_string(func_input='Cat')"
   ]
  },
  {
   "cell_type": "markdown",
   "metadata": {},
   "source": [
    "is an example of passing a **keyword** to the is_string function. If your function has more than one **required argument**, then these must be given in order unless you call them using the **keyword**.\n",
    "\n",
    "Here is a function as an example:"
   ]
  },
  {
   "cell_type": "code",
   "execution_count": 27,
   "metadata": {},
   "outputs": [],
   "source": [
    "def menu(food,price):\n",
    "    \"This will print a type of food an its cost\"\n",
    "    print('The type of food is '+str(food))\n",
    "    print('The cost is ' + '£' + str(price))"
   ]
  },
  {
   "cell_type": "markdown",
   "metadata": {},
   "source": [
    "And using a **keyword** argument, these may be passed to the function in any order:"
   ]
  },
  {
   "cell_type": "code",
   "execution_count": 29,
   "metadata": {},
   "outputs": [
    {
     "name": "stdout",
     "output_type": "stream",
     "text": [
      "The type of food is pizza\n",
      "The cost is £2.5\n"
     ]
    }
   ],
   "source": [
    "menu(price=2.50,food='pizza')"
   ]
  },
  {
   "cell_type": "markdown",
   "metadata": {},
   "source": [
    "Without the keyword arguments, this would give:"
   ]
  },
  {
   "cell_type": "code",
   "execution_count": 31,
   "metadata": {},
   "outputs": [
    {
     "name": "stdout",
     "output_type": "stream",
     "text": [
      "The type of food is 2.5\n",
      "The cost is £pizza\n"
     ]
    }
   ],
   "source": [
    "menu(2.50,'pizza')"
   ]
  },
  {
   "cell_type": "markdown",
   "metadata": {},
   "source": [
    "Which is clearly wrong.\n",
    "\n",
    "### Default arguments\n",
    "\n",
    "The final type of argument we will describe is the **default argument**. When you write a function, you can give a default value to some or all of the **arguments** you must pass to it. This is used as the value for thatargument, unless you **pass** a different argument using a **keyword**. For example:"
   ]
  },
  {
   "cell_type": "code",
   "execution_count": 12,
   "metadata": {},
   "outputs": [],
   "source": [
    "def menu2(food,price=2.50):\n",
    "    \"This will print a type of food an its cost\"\n",
    "    print('The type of food is '+str(food))\n",
    "    print('The cost is ' + '£' + str(price))"
   ]
  },
  {
   "cell_type": "markdown",
   "metadata": {},
   "source": [
    "Has a default value for price of 350. You can **call** this function with only the food argument:"
   ]
  },
  {
   "cell_type": "code",
   "execution_count": 13,
   "metadata": {},
   "outputs": [
    {
     "name": "stdout",
     "output_type": "stream",
     "text": [
      "The type of food is Pizza\n",
      "The cost is £2.5\n"
     ]
    }
   ],
   "source": [
    "menu2('Pizza')"
   ]
  },
  {
   "cell_type": "markdown",
   "metadata": {},
   "source": [
    "# Using python packages\n",
    "\n",
    "There are many functions available which perform many different tasks. These might be finding the mean of a set of numbers, or their standard deviation, or any number of numerical operations. \n",
    "\n",
    "These functions are collected into **modules**, and these **modules** are collected into **packages**. Packages contain a file called **\\__init__.py**, which tells python that it is working with a package. We must **import** packages to our script to use them. **Modules** and **packages** can contain other python objects, but we will not cover these here.\n",
    "\n",
    "Importing packages is simple, in the cell below we will import the package numpy"
   ]
  },
  {
   "cell_type": "code",
   "execution_count": 14,
   "metadata": {},
   "outputs": [],
   "source": [
    "import numpy"
   ]
  },
  {
   "cell_type": "markdown",
   "metadata": {},
   "source": [
    "numpy is a package that is used in many branches of science, and contains many useful functions. You can call a function from a package by writing the package name, followed by a . (full stop), and then the name of the function.\n",
    "\n",
    "Here are some examples:"
   ]
  },
  {
   "cell_type": "code",
   "execution_count": 15,
   "metadata": {},
   "outputs": [
    {
     "name": "stdout",
     "output_type": "stream",
     "text": [
      "1.0\n",
      "0.0\n",
      "0.0\n"
     ]
    }
   ],
   "source": [
    "print(numpy.cos(0))\n",
    "print(numpy.sin(0))\n",
    "print(numpy.tan(0))"
   ]
  },
  {
   "cell_type": "markdown",
   "metadata": {},
   "source": [
    "In these three lines, we have used the inbuilt python **print** function to print the value of sin, cos and tan at 0 radians. To calculate this value, we have uesd the numpy **functions** cos, sin and tan, with the **argument** 0.\n",
    "\n",
    "To call these we have used the name of our package, numpy, followed by . (a full stop) and the name of the function we want to use from the numpy package. There are lots of functions in the numpy package, and you can see a list of them by typing numpy, followed by a . (full stop), and pressing the tab key - try this in the cell below, pressing the down arrow key to cycle through the options (there are many!)."
   ]
  },
  {
   "cell_type": "code",
   "execution_count": 16,
   "metadata": {},
   "outputs": [],
   "source": [
    "# try typing numpy. and pressing tab in a line below, cycle through the options that appear with the down arrow\n",
    "\n"
   ]
  },
  {
   "cell_type": "markdown",
   "metadata": {},
   "source": [
    "When we import a module, we can rename it to make writing code neater and more readable. It is standard practice in the science community to **import** numpy **as** np\n",
    "\n",
    "When this is done, we can call the same functions as above, using the new shorter name np."
   ]
  },
  {
   "cell_type": "code",
   "execution_count": 17,
   "metadata": {},
   "outputs": [
    {
     "name": "stdout",
     "output_type": "stream",
     "text": [
      "1.0\n",
      "0.0\n",
      "0.0\n"
     ]
    }
   ],
   "source": [
    "import numpy as np\n",
    "\n",
    "print(np.cos(0))\n",
    "print(np.sin(0))\n",
    "print(np.tan(0))\n",
    "\n"
   ]
  },
  {
   "cell_type": "markdown",
   "metadata": {},
   "source": [
    "We can use these functions inside our own functions, meaning that we do not have to write new functions every time we need to perform a mathematical operation.\n",
    "\n",
    "For example, if we wanted to find the values of sin, cos and tan for every angle between 0 and 180 degrees, we could use a **for** loop to loop over these angles, and the numpy functions cos, sin and tan to compute the values. Remember that the numpy functions cos, sin and tan, take an **argument** in radians, so we must use a different function, np.deg2rad, to convert our i in degrees into radians to get the correct result.\n",
    "\n",
    "We have used range before as a inbuilt python tool, however numpy also has options for generating a range of values. So, for example, this task could be done in the following ways:"
   ]
  },
  {
   "cell_type": "code",
   "execution_count": 18,
   "metadata": {},
   "outputs": [],
   "source": [
    "all_cos = []\n",
    "all_sin = []\n",
    "all_tan = []\n",
    "theta   = []\n",
    "for i in range(0,181,1):\n",
    "    all_cos.append(np.cos(np.deg2rad(i)))\n",
    "    all_sin.append(np.sin(np.deg2rad(i)))\n",
    "    all_tan.append(np.tan(np.deg2rad(i)))\n",
    "    theta.append(i)"
   ]
  },
  {
   "cell_type": "markdown",
   "metadata": {},
   "source": [
    "or we could use the numpy function np.arange to take smaller steps in our loop:"
   ]
  },
  {
   "cell_type": "code",
   "execution_count": 19,
   "metadata": {},
   "outputs": [],
   "source": [
    "all_cos_2 = []\n",
    "all_sin_2 = []\n",
    "all_tan_2 = []\n",
    "theta_2   = []\n",
    "for i in np.arange(0,181,0.1):\n",
    "    all_cos.append(np.cos(np.deg2rad(i)))\n",
    "    all_sin.append(np.sin(np.deg2rad(i)))\n",
    "    all_tan.append(np.tan(np.deg2rad(i)))\n",
    "    theta_2.append(i)"
   ]
  },
  {
   "cell_type": "markdown",
   "metadata": {},
   "source": [
    "The inbuilt python **range** function only takes integer values, where as **np.arange** can take floats. It means for the two examples above, there are ten times as many values of theta_2 etc. as for theta. we can check this using another inbuilt function **len** which checks the lenght of a list:"
   ]
  },
  {
   "cell_type": "code",
   "execution_count": 20,
   "metadata": {},
   "outputs": [
    {
     "name": "stdout",
     "output_type": "stream",
     "text": [
      "181\n",
      "1810\n"
     ]
    }
   ],
   "source": [
    "print(len(theta))\n",
    "print(len(theta_2))"
   ]
  },
  {
   "cell_type": "markdown",
   "metadata": {},
   "source": [
    "There are many other modules that are used in scientific computing, all of which have documentation to help you understand their aplications. If you are not sure what a module or a function does you can use a ? to find out more about it.\n",
    "\n",
    "For example:"
   ]
  },
  {
   "cell_type": "code",
   "execution_count": 21,
   "metadata": {},
   "outputs": [],
   "source": [
    "numpy?"
   ]
  },
  {
   "cell_type": "markdown",
   "metadata": {},
   "source": [
    "will tell you about the numpy module"
   ]
  },
  {
   "cell_type": "code",
   "execution_count": 22,
   "metadata": {},
   "outputs": [],
   "source": [
    "np.sin?"
   ]
  },
  {
   "cell_type": "markdown",
   "metadata": {},
   "source": [
    "will tell you about the sin function in the numpy module.\n",
    "\n",
    "Some other modules which will be useful are given in the table below:\n",
    "\n",
    "\n",
    "\n",
    "Module     |Use                     |Example functions    |Web link\n",
    "-----------|------------------------|---------------------|---------:\n",
    "NumPy      |maths functions, utility|np.arange, np.nan    |[NumPy.org](http://www.numpy.org)\n",
    "Astropy    |astronomy functions     |                     |[Astropy.org](http://www.astropy.org)\n",
    "SciPy      |many                    |                     |[Scipy.org](https://www.scipy.org)\n",
    "Pandas     |data handling           |                     |[Pandas.pydata.org](https://pandas.pydata.org)\n",
    "\n",
    "\n",
    "\n",
    "\n",
    "\n"
   ]
  },
  {
   "cell_type": "markdown",
   "metadata": {},
   "source": [
    "\n",
    "\n",
    "# Reading and writing files\n",
    "\n",
    "Often, you will want to read data from a file that you have, and save data which you have made to another file.\n",
    "\n",
    "There are many ways that this can be done in python, we will cover two in this section:\n",
    "\n",
    "* using the np.genfromtxt function\n",
    "* using pandas dataframes\n",
    "\n",
    "A third, using the built in **open** function, will be presented in the advanced topics section at the end of these notes.\n",
    "\n",
    "### np.genfromtxt\n",
    "\n",
    "np.genfromtxt is a function of the **numpy** module which takes an input file and generates a list or 2D array from this containing the information in that file.\n",
    "\n",
    "An example of how it is used is shown below. The file CHETEC_data.txt **must** be in the same directory/folder as this notebook for this to work."
   ]
  },
  {
   "cell_type": "code",
   "execution_count": 23,
   "metadata": {},
   "outputs": [],
   "source": [
    "import numpy as np\n",
    "\n",
    "data = np.genfromtxt('CHETEC_data.txt')"
   ]
  },
  {
   "cell_type": "markdown",
   "metadata": {},
   "source": [
    "Here, we have **imported** the numpy module as np and made an object data, which contains the data from the file CHETEC_data.txt by using the function **genfromtxt**\n",
    "\n",
    "You can see what the data looks like below by typing data and executing the cell. You can also see the shape of the data by typing np.shape(data) using the numpy function **shape** on the object **data**"
   ]
  },
  {
   "cell_type": "code",
   "execution_count": null,
   "metadata": {},
   "outputs": [],
   "source": []
  },
  {
   "cell_type": "markdown",
   "metadata": {},
   "source": [
    "numpy also has a function which will allow you to save data to a file. This function is **np.savetxt**\n",
    "\n",
    "**Task:**\n",
    "\n",
    "In the cell bellow, use a **for** loop to evaluate the following expression between the values 0 < t < 6 in steps of 0.01:\n",
    "\n",
    "y = e$^{-\\gamma t}$a $\\cos[\\omega_1t-\\alpha]$\n",
    "\n",
    "where:\n",
    "\n",
    "$\\gamma$ = 1.4\n",
    "    \n",
    "a = 15\n",
    "    \n",
    "$\\alpha$ = 5\n",
    "\n",
    "$\\omega$ = 8.3\n",
    "\n",
    "Store your data in a variable named y, and the times you produce in a variable t."
   ]
  },
  {
   "cell_type": "code",
   "execution_count": 24,
   "metadata": {},
   "outputs": [],
   "source": [
    "# compute y and t here. you can do this by starting with two empty arrays, y and t, and appending\n",
    "# your data to these in a loop.\n",
    "\n",
    "\n",
    "\n",
    "\n",
    "\n",
    "\n",
    "\n",
    "\n"
   ]
  },
  {
   "cell_type": "markdown",
   "metadata": {},
   "source": [
    "Now that you have some data, we can save this to a file so that we can use it in the future.\n",
    "\n",
    "To do this, we can use the np.savetxt function. We can see the arguments we can pass to the genfrom txt function by typing it below followed by a ?"
   ]
  },
  {
   "cell_type": "code",
   "execution_count": 25,
   "metadata": {},
   "outputs": [],
   "source": [
    "np.savetxt?"
   ]
  },
  {
   "cell_type": "markdown",
   "metadata": {},
   "source": [
    "From this we can see that savetxt has two required arguments, *filename*, which must be a string - for instance 'CHETEC_data.txt', and the data you are saving, which may be any of a number of python objects.\n",
    "\n",
    "The data which we pass to the savetxt function must be in a 1D array or a 2D array, which means, if we want to save our x,y data from the previous task in a file, we have to make it into a 2D array. This is easy with numpy, we can use the np.vstack function to turn the two 1D arrays into a 2D array\n"
   ]
  },
  {
   "cell_type": "code",
   "execution_count": 26,
   "metadata": {},
   "outputs": [
    {
     "ename": "NameError",
     "evalue": "name 't' is not defined",
     "output_type": "error",
     "traceback": [
      "\u001b[0;31m---------------------------------------------------------------------------\u001b[0m",
      "\u001b[0;31mNameError\u001b[0m                                 Traceback (most recent call last)",
      "\u001b[0;32m<ipython-input-26-6944879be345>\u001b[0m in \u001b[0;36m<module>\u001b[0;34m()\u001b[0m\n\u001b[0;32m----> 1\u001b[0;31m \u001b[0mdata\u001b[0m \u001b[0;34m=\u001b[0m \u001b[0mnp\u001b[0m\u001b[0;34m.\u001b[0m\u001b[0mvstack\u001b[0m\u001b[0;34m(\u001b[0m\u001b[0;34m(\u001b[0m\u001b[0mt\u001b[0m\u001b[0;34m,\u001b[0m\u001b[0my\u001b[0m\u001b[0;34m)\u001b[0m\u001b[0;34m)\u001b[0m\u001b[0;34m\u001b[0m\u001b[0m\n\u001b[0m",
      "\u001b[0;31mNameError\u001b[0m: name 't' is not defined"
     ]
    }
   ],
   "source": [
    "data = np.vstack((t,y))"
   ]
  },
  {
   "cell_type": "markdown",
   "metadata": {},
   "source": [
    "Here I have assumed the arrays you have created in the task above are called x and y, if they are not then you must change these in this cell in order for the vstack function to work.\n",
    "\n",
    "There are other default arguments for the savetxt function:\n",
    "\n",
    "delimiter - which tells the function what character to use to split up the items in your file\n",
    "\n",
    "header - which lets you add information on the content of the file\n",
    "\n",
    "comments - which specify what the comment character is for this file\n",
    "\n",
    "you will have to use these if you want to use the savetxt function correctly. For now though, we will use the savetxt function to save the data you have made to a file:\n",
    "\n",
    "**Task:**\n",
    "\n",
    "In the cell bellow, use the *savetxt* function to save your *data* to a file called damped_oscilator.txt (Remember - this should be a string)\n",
    "\n",
    "You may use the online savetxt documentation, to decide if you would like to include header information, a different delimiter or change other things about your saved file.\n",
    "\n",
    "https://docs.scipy.org/doc/numpy/reference/generated/numpy.savetxt.html"
   ]
  },
  {
   "cell_type": "code",
   "execution_count": null,
   "metadata": {},
   "outputs": [],
   "source": [
    "np.savetxt('your file name here',your data here)"
   ]
  },
  {
   "cell_type": "markdown",
   "metadata": {},
   "source": [
    "This *should* save the data you have made to a file in the same directory as this notebook - have a look to see if it is there!\n",
    "\n",
    "It is possible to access files in other directories from the one that you are in, and to save to a different place too, but we will cover this in the lectures in October."
   ]
  },
  {
   "cell_type": "markdown",
   "metadata": {},
   "source": [
    "### Pandas\n",
    "\n"
   ]
  },
  {
   "cell_type": "markdown",
   "metadata": {},
   "source": [
    "Pandas is a module with many tools for handling data. You may find it easier to store and save text using the pandas module than the numpy text functions, as the pandas function can lable headers and columns for you. this may make working with data easier, but it may take more time to get used to the functions in pandas.\n",
    "\n",
    "The function for loading text in pandas is called read_csv (csv stands for comma separated variable).\n",
    "\n",
    "The pd.read_csv function has a lot of potential arguments, but the ones which are most important are the filepath_or_buffer and the delimiter, which are similar to those metioned in the genfromtxt section.\n",
    "\n",
    "The piece of code below performs the same task as the genfromtxt code above - loading the data from CHETEC_data.txt - it's up to you which to use in the summer school!\n",
    "\n",
    "Here is a link to the read_csv documentation:\n",
    "\n",
    "https://pandas.pydata.org/pandas-docs/stable/generated/pandas.read_csv.html"
   ]
  },
  {
   "cell_type": "code",
   "execution_count": null,
   "metadata": {},
   "outputs": [],
   "source": [
    "import pandas as pd\n",
    "\n",
    "\n",
    "data_2 = pd.read_csv('CHETEC_data.txt')"
   ]
  },
  {
   "cell_type": "markdown",
   "metadata": {},
   "source": [
    "The pandas equivalent of np.savetxt is in the DataFrame module of pandas, we can make an instance of it like this:"
   ]
  },
  {
   "cell_type": "code",
   "execution_count": null,
   "metadata": {},
   "outputs": [],
   "source": [
    "list_one = [0,1,5,4,7,5,8,2,1]\n",
    "df = pd.DataFrame(list_one)\n",
    "df.to_csv('CHETEC_test_2')"
   ]
  },
  {
   "cell_type": "markdown",
   "metadata": {},
   "source": [
    "Here we have made an object df which is a DataFrame object, containing the data in list one, then we have used the *to_csv* method of that object to save the data to a file CHETEC_test_2. when you execute this cell, this file should appear in the directory."
   ]
  },
  {
   "cell_type": "markdown",
   "metadata": {},
   "source": [
    "### Plotting\n",
    "\n",
    "Making, storing and using data is important in astronomy and science, but we must also be abe to present our data to other people. Python has a module - matplotlib - which lets us to do this very well.\n",
    "\n",
    "We give an introduction to these tools here in these notes, but to understand how to use these tools properly practice is important.\n",
    "\n",
    "**matplotlib** is a module containing other modules, the one we will be using is **pyplot**\n",
    "\n",
    "to use this, we use the following line of code"
   ]
  },
  {
   "cell_type": "code",
   "execution_count": null,
   "metadata": {},
   "outputs": [],
   "source": [
    "import matplotlib.pyplot as plt"
   ]
  },
  {
   "cell_type": "markdown",
   "metadata": {},
   "source": [
    "This has imported the **pyplot** module as plt (this is standard practice in astronomy and data science).\n",
    "\n",
    "**pyplot** has many different types of plot available - scatter plots, histograms, 2D histograms, heatmaps, boxplots and others. They take different types of python **objects** depending on the type of plot.\n",
    "\n",
    "A scatter plot takes two 1 dimensional arrays. We can produce a scatter plot but first generating some data"
   ]
  },
  {
   "cell_type": "code",
   "execution_count": null,
   "metadata": {},
   "outputs": [],
   "source": [
    "x_vals = []\n",
    "y_vals = []\n",
    "for i in range(0,100):\n",
    "    x_vals.append(np.random.randint(0,100))\n",
    "    y_vals.append(np.random.randint(0,500))\n",
    "\n"
   ]
  },
  {
   "cell_type": "markdown",
   "metadata": {},
   "source": [
    "Here we have used the random function in numpy to produce two lists of random numbers. We can plot these in a scatter graph, shown below:"
   ]
  },
  {
   "cell_type": "code",
   "execution_count": null,
   "metadata": {},
   "outputs": [],
   "source": [
    "import matplotlib.pyplot as plt\n",
    "\n",
    "plt.scatter(x_vals,y_vals)\n",
    "plt.show()"
   ]
  },
  {
   "cell_type": "markdown",
   "metadata": {},
   "source": [
    "here we call the scatter function of matplotlib.pyplot - if you execute the two code cells you will see the points moving as new data is generated.\n",
    "\n",
    "This is not a very good graph however. There are no lables, and no title!\n",
    "\n",
    "We can add these quite easily though:"
   ]
  },
  {
   "cell_type": "code",
   "execution_count": null,
   "metadata": {},
   "outputs": [],
   "source": [
    "plt.xlabel('random x integer')\n",
    "plt.ylabel('random y integer')"
   ]
  },
  {
   "cell_type": "markdown",
   "metadata": {},
   "source": [
    "But where is the data? We need to add all of the changes to the graph we want to make *before* adding the plt.show or executing the cell (if the plot command is the last comand in that cell)"
   ]
  },
  {
   "cell_type": "code",
   "execution_count": null,
   "metadata": {},
   "outputs": [],
   "source": [
    "plt.scatter(x_vals,y_vals)\n",
    "plt.xlabel('random x integer',fontsize=15)\n",
    "plt.ylabel('random y integer',fontsize=15)"
   ]
  },
  {
   "cell_type": "markdown",
   "metadata": {},
   "source": [
    "Here we have also changed the font size of the lables to make them more readable. There are lots of things you can change in these plots, the matplotlib website has a lot of information on these:\n",
    "\n",
    "https://matplotlib.org\n",
    "\n",
    "**Task**\n",
    "\n",
    "Load the data you made earlier from the file you created. Then, plot this in the cell below. You will have to work out how to split the 2D data back into 1D data, but you should be able to do this using the links provided. You should use the plt.plot function for this plot - how is it different from the scatter style?\n",
    "\n",
    "Then, load the data in the file 'CHETEC_data.txt' plot this - what does it look like? Is this best presented with the scatter plot or the plt.plot function?"
   ]
  },
  {
   "cell_type": "code",
   "execution_count": null,
   "metadata": {},
   "outputs": [],
   "source": []
  }
 ],
 "metadata": {
  "kernelspec": {
   "display_name": "Python 2",
   "language": "python",
   "name": "python2"
  },
  "language_info": {
   "codemirror_mode": {
    "name": "ipython",
    "version": 3
   },
   "file_extension": ".py",
   "mimetype": "text/x-python",
   "name": "python",
   "nbconvert_exporter": "python",
   "pygments_lexer": "ipython3",
   "version": "3.6.5"
  }
 },
 "nbformat": 4,
 "nbformat_minor": 2
}
